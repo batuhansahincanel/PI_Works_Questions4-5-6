{
  "nbformat": 4,
  "nbformat_minor": 0,
  "metadata": {
    "colab": {
      "name": "questions4-5-6.ipynb",
      "provenance": [],
      "collapsed_sections": [],
      "authorship_tag": "ABX9TyNTQGOmfzgJAQyTAaUg0V5f",
      "include_colab_link": true
    },
    "kernelspec": {
      "name": "python3",
      "display_name": "Python 3"
    },
    "language_info": {
      "name": "python"
    }
  },
  "cells": [
    {
      "cell_type": "markdown",
      "metadata": {
        "id": "view-in-github",
        "colab_type": "text"
      },
      "source": [
        "<a href=\"https://colab.research.google.com/github/batuhansahincanel/PI_Works_Questions4-5-6/blob/main/questions4_5_6.ipynb\" target=\"_parent\"><img src=\"https://colab.research.google.com/assets/colab-badge.svg\" alt=\"Open In Colab\"/></a>"
      ]
    },
    {
      "cell_type": "markdown",
      "source": [
        "# Question 4-)"
      ],
      "metadata": {
        "id": "1LKwABp-57XF"
      }
    },
    {
      "cell_type": "code",
      "execution_count": 1,
      "metadata": {
        "colab": {
          "base_uri": "https://localhost:8080/"
        },
        "id": "72rQXVtp5wG0",
        "outputId": "08be724c-11b9-4418-ec1c-dbb2724ea3d6"
      },
      "outputs": [
        {
          "output_type": "stream",
          "name": "stdout",
          "text": [
            "country               0\n",
            "date                  0\n",
            "daily_vaccinations    0\n",
            "vaccines              0\n",
            "dtype: int64\n"
          ]
        }
      ],
      "source": [
        "import pandas as pd\n",
        "import numpy as np\n",
        "df = pd.read_csv(\"country_vaccination_stats.csv\")\n",
        "df[\"daily_vaccinations\"] = df.groupby(\"country\")[\"daily_vaccinations\"].transform(lambda x: x.fillna(x.min()))\n",
        "df[\"daily_vaccinations\"] = df.groupby(\"country\")[\"daily_vaccinations\"].transform(lambda x: x.fillna(0))\n",
        "print(df.isnull().sum())"
      ]
    },
    {
      "cell_type": "markdown",
      "source": [
        "#Question 5-)"
      ],
      "metadata": {
        "id": "HTxk2EvH5_VQ"
      }
    },
    {
      "cell_type": "code",
      "source": [
        "df.groupby(\"country\")[\"daily_vaccinations\"].median().sort_values(ascending=False).head(3)"
      ],
      "metadata": {
        "colab": {
          "base_uri": "https://localhost:8080/"
        },
        "id": "tNWXgKgr57Ae",
        "outputId": "8f7dd4a3-641c-4678-f932-a405b0c0a9ec"
      },
      "execution_count": 2,
      "outputs": [
        {
          "output_type": "execute_result",
          "data": {
            "text/plain": [
              "country\n",
              "United States    378253.0\n",
              "China            276786.0\n",
              "India            173922.0\n",
              "Name: daily_vaccinations, dtype: float64"
            ]
          },
          "metadata": {},
          "execution_count": 2
        }
      ]
    },
    {
      "cell_type": "markdown",
      "source": [
        "\n",
        "#Question 6-)"
      ],
      "metadata": {
        "id": "Sg1jlPDp6KWb"
      }
    },
    {
      "cell_type": "code",
      "source": [
        "sum_of_vacc = []\n",
        "sum_of_vacc = df.groupby(\"date\")[\"daily_vaccinations\"].sum().sort_values()\n",
        "\n",
        "sum_of_vacc = pd.DataFrame(sum_of_vacc)\n",
        "sum_of_vacc = sum_of_vacc.reset_index()\n",
        "sum_of_vacc\n",
        "value = [\"1/6/2021\"]\n",
        "\n",
        "print(sum_of_vacc[sum_of_vacc['date'].isin(value)])"
      ],
      "metadata": {
        "colab": {
          "base_uri": "https://localhost:8080/"
        },
        "id": "fQStretd57ME",
        "outputId": "21240f92-c051-4555-de20-95bcda01fb0f"
      },
      "execution_count": 3,
      "outputs": [
        {
          "output_type": "stream",
          "name": "stdout",
          "text": [
            "        date  daily_vaccinations\n",
            "24  1/6/2021           1485255.0\n"
          ]
        }
      ]
    }
  ]
}